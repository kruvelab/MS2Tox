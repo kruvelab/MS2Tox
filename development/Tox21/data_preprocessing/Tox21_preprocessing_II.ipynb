{
 "cells": [
  {
   "cell_type": "code",
   "execution_count": 1,
   "id": "71050c28-4dd1-4a37-a024-5e8421ca00a7",
   "metadata": {},
   "outputs": [],
   "source": [
    "from rdkit import Chem\n",
    "from rdkit import DataStructs\n",
    "from rdkit.Chem.SaltRemover import SaltRemover\n",
    "from rdkit.Chem import MACCSkeys\n",
    "import pandas as pd\n",
    "import numpy as np\n",
    "from rdkit.Chem.MolStandardize import rdMolStandardize\n",
    "from rdkit.Chem import Draw\n",
    "from rdkit.Chem.Draw import IPythonConsole\n",
    "import matplotlib.pyplot as plt"
   ]
  },
  {
   "cell_type": "markdown",
   "id": "13af141a-4e74-4da5-864f-f5aadfbc0f31",
   "metadata": {},
   "source": [
    "Reading the data obtained while running the code `Tox21_preprocessing_I.Rmd` and finding the compounds that have disconnected structures (`.` in the SMILES > these compounds are salts)."
   ]
  },
  {
   "cell_type": "code",
   "execution_count": null,
   "id": "8a8bbc0c-97e3-4693-9a97-613824433788",
   "metadata": {},
   "outputs": [],
   "source": [
    "data = pd.read_csv('final_data.tsv', sep='\\t')\n",
    "salts = data[data['SMILES'].str.contains(r'\\.')].reset_index(drop=True)"
   ]
  },
  {
   "cell_type": "markdown",
   "id": "7b932b1c-3d92-4b45-9e65-874327fc75e5",
   "metadata": {},
   "source": [
    "Using the following rules to remove the salts\n",
    "\n",
    "Total amout of salts: 1600\n",
    "Removing following groups and normalising the resulting molecules.\n",
    "Always checking if the resulting ion (after removal) is duplicated. If true, then deduplicating the SMILES.\n",
    "Removing:\n",
    "1. Li,Na,K,Ca,Mg,Ba - 1248\n",
    "2. Cl,Br,I - 508\n",
    "3. O,N - 408\n",
    "4. [O-]S(=O)(=O)[O-] - 402 (sulfate)\n",
    "5. OS(O)(=O)=O - 346 (sulphuric acid)\n",
    "6. [N+](=O)([O-])[O-] - 343 (nitrate)\n",
    "7. [N+](=O)(O)[O-] - 337 (nitric acid)\n",
    "8. [O-]P(=O)([O-])[O-] - 337 (phosphate)\n",
    "9. C(=O)([O-])[O-] - 336 (carbonate)\n",
    "10. C(=O)(O)O - 335 (carbonic acid)\n",
    "11. OP(=O)(O)O - 331 (phosphoric acid)\n",
    "12. CC(=O)[O-] - 321 (acetate)\n",
    "13. CC(=O)O - 308 (acetic acid)\n",
    "14. C1=CC=C(C=C1)C(=O)[O-] - 308 (benzoate)\n",
    "15. C1=CC=C(C=C1)C(=O)O  - 308 (benzoic acid)\n",
    "16. C1=CC=C(C(=C1)C(=O)O)O - 308 (salicylic acid)\n",
    "17. C1=CC=C(C(=C1)C(=O)O)[O-] - 308 (salicylate)\n",
    "18. C(F)(F)(F)S(=O)(=O)[O-] - 291 (triflate)\n",
    "19. C(CC(=O)O)C(=O)O - 283 (succinic acid)\n",
    "20. C(CC(=O)[O-])C(=O)[O-] - 283 (succinate)\n",
    "21. OC(=O)C(O)C(O)C(=O)O - 265 (2,3-dihydroxysuccinic acid)\n",
    "22. OO - 264\n",
    "\n",
    "Removing following compounds:\n",
    "\n",
    "24. [Na+].[Na+].F[Si--](F)(F)(F)(F)F - 263\n",
    "25. [NH4+].[NH4+].[Cl-][Pt++]([Cl-])([Cl-])[Cl-] - 262\n",
    "26. [NH4+].[NH4+].F[Si--](F)(F)(F)(F)F - 261\n",
    "27. compounds containing following transition metal ions:\n",
    "* Zn - 255\n",
    "* Mn - 253\n",
    "* Co - 252\n",
    "* Ag - 251\n",
    "* Cu - 248\n",
    "* Gd - 246\n",
    "* Hg - 246 \n",
    "* Cr - 244\n",
    "* Be - 244\n",
    "* Ni - 243\n",
    "* Fe - 239\n",
    "\n",
    "28. C(C(=O)O)C(CC(=O)O)(C(=O)O)O - 220 (citric acid)\n",
    "29. COS(=O)(=O)[O-] - 213 (methylsulfate)\n",
    "30. CS(=O)(=O)[O-] - 210 (methanesulfonate)\n",
    "31. CS(=O)(=O)O - 178 (methanesulfonic acid)\n",
    "32. C(=C/C(=O)O)\\C(=O)O - 131 (fumaric acid)\n",
    "33. C(C(C(=O)O)O)C(=O)O - 129 (malic acid)\n",
    "34. C(=O)(C(=O)O)O - 125 (oxalic acid)  \n",
    "35. O=C(O)c1ccccc1O - 123 (salicylic acid)\n",
    "36. C(CS(=O)(=O)O)O - 122 (isethionic acid)\n",
    "37. CC(C(=O)O)O - 119 (lactic acid)\n",
    "38. CCCCCCCCCCCC(=O)O - 118 (lauric acid)\n",
    "39. CCCCCCCCCCCCCCCCCC(=O)[O-] - 117 (stearate)\n",
    "40. extra benzoate removal O=C([O-])c1ccccc1 - 115\n",
    "41. CO - 114\n",
    "\n",
    "42. Removing F[B-](F)(F)F (this ion alone didn't show toxic effects) - 95\n",
    "43. For the same reason removing F[P-](F)(F)(F)(F)F - 76\n",
    "44. And also O=S(=O)([N-]S(=O)(=O)C(F)(F)F)C(F)(F)F - 58\n",
    "45. And tosylate Cc1ccc(S(=O)(=O)[O-])cc1 - 52\n",
    "\n",
    "\n",
    "46. CCC(=O)O (used as a solvent) - 51 (propionic acid)\n",
    "\n",
    "47. One by one checking the remaining chemicals based on their ID and structure and if it is impossible to figure out which ion is toxic removing the compound\n"
   ]
  },
  {
   "cell_type": "code",
   "execution_count": null,
   "id": "abbf65b2-0e32-42ab-9e30-c7988b8831a2",
   "metadata": {},
   "outputs": [],
   "source": [
    "for i in range(len(salts)):\n",
    "    mol = Chem.MolFromSmiles(salts.iloc[i]['SMILES']) \n",
    "    remover = SaltRemover(defnData='OCCN(CCO)CCO') # replacing the structure based on the previous list\n",
    "    try:\n",
    "        stripped = remover.StripMol(mol)\n",
    "        new_smiles = Chem.MolToSmiles(stripped)\n",
    "        \n",
    "        if '.' in new_smiles:\n",
    "            first = new_smiles.split('.')[0]\n",
    "            second = new_smiles.split('.')[1]\n",
    "            if first == second and len(new_smiles.split('.')) == 2:\n",
    "                print(first, second)\n",
    "                salts.at[i,'SMILES'] = first\n",
    "            else:\n",
    "                salts.at[i,'SMILES'] = new_smiles\n",
    "        else:\n",
    "            salts.at[i,'SMILES'] = new_smiles\n",
    "    except:\n",
    "        print(salts.iloc[i]['SMILES'])"
   ]
  },
  {
   "cell_type": "code",
   "execution_count": null,
   "id": "6a917ad2-9eaa-4313-b8e3-513ffc80ebf8",
   "metadata": {},
   "outputs": [],
   "source": [
    "for i in range(len(salts)):\n",
    "    if '.' in salts.iloc[i]['SMILES']:\n",
    "        print(salts.iloc[i]['SMILES'])\n",
    "        \n",
    "        salts.at[i,'SMILES'] = ''"
   ]
  },
  {
   "cell_type": "code",
   "execution_count": null,
   "id": "1d2e5850-53ad-4c09-a23c-6fcc72cf401a",
   "metadata": {},
   "outputs": [],
   "source": [
    "remaining_salts = salts[salts['SMILES'].str.contains(r'\\.')]\n",
    "print(len(remaining_salts)) # After cleaning it should be 0\n",
    "#remaining_salts.to_csv('remaining_salts.tsv', sep='\\t', index=False) # After cleaning the file should be empty"
   ]
  },
  {
   "cell_type": "code",
   "execution_count": null,
   "id": "209ae9d9-0115-4965-9670-5f08875e56e2",
   "metadata": {},
   "outputs": [],
   "source": [
    "# Checking the remaining structures during cleaning process\n",
    "mols = [Chem.MolFromSmiles(smi) for smi in remaining_salts.SMILES]\n",
    "Draw.MolsToGridImage(mols, molsPerRow=5, subImgSize=(700, 700))"
   ]
  },
  {
   "cell_type": "code",
   "execution_count": null,
   "id": "69fe786a-261e-477f-b49d-2f5e2d0fde50",
   "metadata": {},
   "outputs": [],
   "source": [
    "salts_original = data[data['SMILES'].str.contains(r'\\.')].reset_index(drop=True)\n",
    "salts_original.insert(1, 'SMILES_new', salts['SMILES'])\n",
    "salts_original.to_csv('salts_checkup.tsv', sep='\\t', index=False)\n",
    "new_smiles = salts_original[['SMILES_new', 'ID']]\n",
    "data_new = new_smiles.merge(data, left_on='ID', right_on='ID', how='outer')\n",
    "data_new = data_new[data_new['SMILES_new'] != ''].reset_index(drop=True)\n",
    "\n",
    "duplicates = data_new[data_new.SMILES_new.duplicated(keep=False)].sort_values('SMILES_new')\n",
    "not_dup = duplicates[duplicates['SMILES_new'].isnull()].reset_index(drop=True)\n",
    "not_dup2 = data_new[-data_new.SMILES_new.duplicated(keep=False)].sort_values('SMILES_new').reset_index(drop=True)\n",
    "unique = pd.concat([not_dup, not_dup2], axis=0).reset_index(drop=True)\n",
    "duplicates = duplicates[-duplicates['SMILES_new'].isnull()].reset_index(drop=True)\n",
    "unique_duplicates = duplicates.drop_duplicates(['SMILES_new'], keep='first').reset_index(drop=True)"
   ]
  },
  {
   "cell_type": "code",
   "execution_count": null,
   "id": "deb0db2b-e915-4504-831f-149a338fb870",
   "metadata": {},
   "outputs": [],
   "source": [
    "for i in range(len(unique_duplicates)):\n",
    "    smiles = unique_duplicates.iloc[i]['SMILES_new']\n",
    "    dup2summary = duplicates[duplicates['SMILES_new'] == smiles]\n",
    "    for j in range(3,15):\n",
    "        new_val = np.max(dup2summary.iloc[:,j])   \n",
    "        unique_duplicates.iloc[i,j] = new_val"
   ]
  },
  {
   "cell_type": "code",
   "execution_count": null,
   "id": "2e4f21fa-5ff2-4642-80e4-dc808717056b",
   "metadata": {},
   "outputs": [],
   "source": [
    "final_unique = pd.concat([unique, unique_duplicates], axis=0).reset_index(drop=True)\n",
    "final_unique['SMILES_new'] = np.where(final_unique['SMILES_new'].isnull(), final_unique['SMILES'], final_unique['SMILES_new'])"
   ]
  },
  {
   "cell_type": "markdown",
   "id": "f0deb91f-1875-4101-8b29-368e51d1cfe2",
   "metadata": {},
   "source": [
    "Removing the compounds that are still not suitable:\n",
    "* [As]#[In]\n",
    "* O1[As]2O[As]3O[As]1O[As](O2)O3\n",
    "* [Cu]I\n",
    "* Br[Ca]Br\n",
    "* [Na]I\n",
    "* Cl[Ba]Cl\n",
    "* Sr2+\n",
    "* Ti\n",
    "* V\n",
    "* O=[Cr]O[Cr]=O\n",
    "* CCCCN(CCCC)C(=S)S[Ni]SC(=S)N(CCCC)CCCC\n",
    "* Cl[Ni]Cl\n",
    "* Cl[Zn]Cl\n",
    "* [O-][N+]1=CC=CC=C1S[Zn]SC2=CC=CC=[N+]2[O-]\n",
    "* Cl[Yb](Cl)Cl\n",
    "* Cl[Zr](Cl)(C1C=CC=C1)C2=CC=CC2\n",
    "* O=[Zr](Cl)Cl\n",
    "* O=[Mo](=O)=O\n",
    "* Cl[Pd]Cl\n",
    "* [O-][N+](=O)O[Cd]O[N+]([O-])=O\n",
    "* O=[Cd]\n",
    "* [Cd+2]\n",
    "* [Cl-][Pt]1([Cl-])NCCN1\n",
    "* [H][C@@]12CCCC[C@@]1([H])N[Pt]3(N2)OC(=O)C(=O)O3\n",
    "* N[Pt](N)(Cl)Cl\n",
    "* N[Pt]1(N)OC(=O)C2(CCC2)C(=O)O1\n",
    "* CCP(CC)(CC)=[Au]S[C@H]1O[C@@H](COC(C)=O)[C@H](OC(C)=O)[C@@H](OC(C)=O)[C@@H]1OC(C)=O\n",
    "* Cl[Au](Cl)Cl\n",
    "* OC[C@H]1OC(S[Au])[C@H](O)[C@@H](O)[C@@H]1O\n",
    "* N#C[Au-]C#N\n",
    "* O=C([O-])CC(S[Au])C(=O)[O-]\n",
    "* Cl[Nd](Cl)Cl\n",
    "* Cl[Dy](Cl)Cl\n",
    "* FB(F)F\n",
    "* CC(=O)O[Al](O)O\n",
    "* CCCCCCCCCCCCCCCCCC(=O)O[Al](O)O\n",
    "* CCCCO[Al](OCCCC)OCCCC\n",
    "* CCOC(=O)\\C=C(\\C)O[Al](OC(C)CC)OC(C)CC\n",
    "* NC(=O)NC1N=C(NC1=O)O[Al](O)O\n",
    "* O=CO[Al](OC=O)OC=O\n",
    "* CC(=O)O[Al](O)OC(C)=O\n",
    "* Cl[In](Cl)Cl\n",
    "* P#[In]\n",
    "* Cl[In](Cl)Cl\n",
    "* O=[Si]=O\n",
    "* CC[Ge](Cl)(CC)CC\n",
    "* CC[Sn](Br)(CC)CC\n",
    "* CCC(C)(CCC(C)C)C(=O)O[Sn](C)(C)OC(=O)C(C)(CC)CCC(C)C\n",
    "* CCCC[Sn](CCCC)(CCCC)CCCC\n",
    "* CCCC[Sn](CCCC)(CCCC)O[Sn](CCCC)(CCCC)CCCC\n",
    "* CCCC[Sn](CCCC)(CCCC)OC(=O)C(C)=C\n",
    "* CCCC[Sn](CCCC)(CCCC)OC(=O)C=C\n",
    "* CCCC[Sn](CCCC)(CCCC)OC(=O)C1=CC=CC=C1\n",
    "* CCCC[Sn](CCCC)(OC(C)=O)OC(C)=O\n",
    "* CCCCCCCC[Sn](Cl)(Cl)CCCCCCCC\n",
    "* Cl[Sn](Cl)(Cl)Cl\n",
    "* F[Sn](C1=CC=CC=C1)(C2=CC=CC=C2)C3=CC=CC=C3\n",
    "* O[Sn](C1=CC=CC=C1)(C2=CC=CC=C2)C3=CC=CC=C3\n",
    "* C[Sn](C)(Cl)Cl\n",
    "* C[Sn](Cl)(Cl)Cl\n",
    "* CCCC[Sn](Cl)(CCCC)CCCC\n",
    "* CCCC[Sn](Cl)(Cl)CCCC\n",
    "* CCCC[Sn](Cl)(Cl)Cl\n",
    "* CCCCCCCCCCCC(=O)O[Sn](CCCC)(CCCC)OC(=O)CCCCCCCCCCC\n",
    "* [SnH2+2]\n",
    "* [PbH2+2]\n",
    "* Cl[Sb](Cl)Cl\n",
    "* O=C([O-])C1O[Sb]2OC(=O)C(O2)C(C(=O)[O-])O[Sb]2OC(=O)C1O2\n",
    "* [Sb+3]\n",
    "* C1=CC=C(C=C1)[Bi](C2=CC=CC=C2)C3=CC=CC=C3\n",
    "* Cl[Bi](Cl)(C1=CC=CC=C1)(C2=CC=CC=C2)C3=CC=CC=C3\n",
    "* Cl[Bi]=O\n",
    "* O=[Se]=O\n",
    "* O[Se](O)=O\n",
    "* O=[Se]([O-])[O-]\n",
    "* [H+]\n",
    "* [O-][Cl+][O-]\n",
    "* [O-][Cl+2]([O-])[O-]\n",
    "* [O-][Cl+3]([O-])([O-])[O-]\n",
    "* [O-][Br+2]([O-])[O-]\n",
    "* II\n",
    "* OS(O)(=O)=O\n",
    "* NO\n",
    "* O=N[O-]\n",
    "* Tl\n",
    "* [NH3+]O\n",
    "* [N-]=[N+]=[N-]\n",
    "* NN\n",
    "* OP(O)(O)=O\n",
    "* OB(O)O\n",
    "* S=C=S\n",
    "* OS(F)(=O)=O\n",
    "* ClS(Cl)(=O)=O\n",
    "* ClP(Cl)(Cl)=O\n",
    "* ClP(Cl)(Cl)(Cl)Cl"
   ]
  },
  {
   "cell_type": "code",
   "execution_count": null,
   "id": "27ad31e8-1771-4517-9519-2348cf5e1ab8",
   "metadata": {},
   "outputs": [],
   "source": [
    "for i in range(len(final_unique)):\n",
    "    if 'ClP(Cl)(Cl)(Cl)Cl' == final_unique.iloc[i]['SMILES_new']:\n",
    "        print(final_unique.iloc[i]['SMILES_new'])\n",
    "        \n",
    "        final_unique.at[i,'SMILES_new'] = ''"
   ]
  },
  {
   "cell_type": "code",
   "execution_count": null,
   "id": "a3270f22-c559-4976-acd2-bf3b5ecd2ed5",
   "metadata": {},
   "outputs": [],
   "source": [
    "final_unique = final_unique[final_unique['SMILES_new'] != ''].reset_index(drop=True)\n",
    "#final_unique.to_csv('final_unique.tsv', sep='\\t', index=False)"
   ]
  },
  {
   "cell_type": "markdown",
   "id": "587cbc1b-9410-49f5-ba38-5ffd40378392",
   "metadata": {},
   "source": [
    "After removing non-toxic ions (i.e. leaving only one part/ion of/from the salt) and compounds that are not suitable for the final application (not suitable for LC/HRMS analysis), it is necessary to neutralise the remaining compounds (https://www.rdkit.org/docs/Cookbook.html)."
   ]
  },
  {
   "cell_type": "code",
   "execution_count": null,
   "id": "d034e410-a9c6-4548-84f6-5823e02ecbd8",
   "metadata": {},
   "outputs": [],
   "source": [
    "def neutralize_atoms(mol):\n",
    "    pattern = Chem.MolFromSmarts(\"[+1!h0!$([*]~[-1,-2,-3,-4]),-1!$([*]~[+1,+2,+3,+4])]\")\n",
    "    at_matches = mol.GetSubstructMatches(pattern)\n",
    "    at_matches_list = [y[0] for y in at_matches]\n",
    "    if len(at_matches_list) > 0:\n",
    "        for at_idx in at_matches_list:\n",
    "            atom = mol.GetAtomWithIdx(at_idx)\n",
    "            chg = atom.GetFormalCharge()\n",
    "            hcount = atom.GetTotalNumHs()\n",
    "            atom.SetFormalCharge(0)\n",
    "            atom.SetNumExplicitHs(hcount - chg)\n",
    "            atom.UpdatePropertyCache()\n",
    "    return mol"
   ]
  },
  {
   "cell_type": "code",
   "execution_count": null,
   "id": "8c62568e-f637-4ed1-938d-3e7a4f38669a",
   "metadata": {},
   "outputs": [],
   "source": [
    "mols = [Chem.MolFromSmiles(m) for m in final_unique['SMILES_new']]\n",
    "list2 = []\n",
    "for mol in mols:\n",
    "    neutralize_atoms(mol)\n",
    "    new_smiles = Chem.MolToSmiles(mol)\n",
    "    list2.append(new_smiles)\n",
    "final_unique.insert(1, 'SMILES_final', list2)\n",
    "#final_unique.to_csv('final_unique_standard.tsv', sep='\\t', index=False)"
   ]
  },
  {
   "cell_type": "markdown",
   "id": "91b2b47c-c2bd-4cd6-a33d-5408b7739bf6",
   "metadata": {},
   "source": [
    "Checking if there are duplicates in the dataset and using the same rules as in `Tox21_preprocessing_I.Rmd` to combine them."
   ]
  },
  {
   "cell_type": "code",
   "execution_count": null,
   "id": "312ca8f0-da25-4155-bc60-e4c05b5f3436",
   "metadata": {},
   "outputs": [],
   "source": [
    "duplicates2 = final_unique[final_unique.SMILES_final.duplicated(keep=False)].sort_values('SMILES_final')\n",
    "unique2 = final_unique[-final_unique.SMILES_final.duplicated(keep=False)].sort_values('SMILES_final').reset_index(drop=True)\n",
    "unique_duplicates2 = duplicates2.drop_duplicates(['SMILES_final'], keep='first').reset_index(drop=True)\n",
    "\n",
    "for i in range(len(unique_duplicates2)):\n",
    "    smiles = unique_duplicates2.iloc[i]['SMILES_final']\n",
    "    dup2summary = duplicates2[duplicates2['SMILES_final'] == smiles]\n",
    "    for j in range(4,16):\n",
    "        new_val = np.max(dup2summary.iloc[:,j])   \n",
    "        unique_duplicates2.iloc[i,j] = new_val\n",
    "        \n",
    "final_data = pd.concat([unique2, unique_duplicates2], axis=0).reset_index(drop=True)\n",
    "#final_data.to_csv('final_data_raw.tsv', sep='\\t', index=False)\n",
    "final_data = final_data.drop(['SMILES_new', 'SMILES', 'ID'], axis=1)\n",
    "final_data = final_data.rename(columns={'SMILES_final': 'SMILES'})\n",
    "#final_data.to_csv('final_data_ready.tsv', sep='\\t', index=False)"
   ]
  },
  {
   "cell_type": "markdown",
   "id": "92cc01b4-eec7-4b6d-a70c-1cffa9fae70c",
   "metadata": {},
   "source": [
    "Visualising the data that is ready for selecting the compounds that have the mass spectra in databases and are suitable for calculating the fingerprints."
   ]
  },
  {
   "cell_type": "code",
   "execution_count": null,
   "id": "9da8d3f5-959e-48a0-ae7b-52415aa07b3d",
   "metadata": {},
   "outputs": [],
   "source": [
    "final_data.loc[:, final_data.columns != 'SMILES'] = final_data.loc[:, final_data.columns != 'SMILES'].astype('Int64')\n",
    "final_data = final_data.replace(-9223372036854775808, np.nan)\n",
    "summary_stat_input = final_data.loc[:, final_data.columns != 'SMILES'].apply(pd.value_counts, dropna=False)\n",
    "#summary_stat_input.to_csv('summary_stat_input.tsv', sep='\\t', index=True)"
   ]
  },
  {
   "cell_type": "code",
   "execution_count": 4,
   "id": "a01c5c91-e67e-40c0-b6e7-0e52247dc618",
   "metadata": {},
   "outputs": [
    {
     "data": {
      "text/html": [
       "<div>\n",
       "<style scoped>\n",
       "    .dataframe tbody tr th:only-of-type {\n",
       "        vertical-align: middle;\n",
       "    }\n",
       "\n",
       "    .dataframe tbody tr th {\n",
       "        vertical-align: top;\n",
       "    }\n",
       "\n",
       "    .dataframe thead th {\n",
       "        text-align: right;\n",
       "    }\n",
       "</style>\n",
       "<table border=\"1\" class=\"dataframe\">\n",
       "  <thead>\n",
       "    <tr style=\"text-align: right;\">\n",
       "      <th></th>\n",
       "      <th>nr.ahr</th>\n",
       "      <th>nr.ar.lbd</th>\n",
       "      <th>nr.ar</th>\n",
       "      <th>nr.aromatase</th>\n",
       "      <th>nr.er.lbd</th>\n",
       "      <th>nr.er</th>\n",
       "      <th>nr.ppar.gamma</th>\n",
       "      <th>sr.are</th>\n",
       "      <th>sr.atad5</th>\n",
       "      <th>sr.hse</th>\n",
       "      <th>sr.mmp</th>\n",
       "      <th>sr.p53</th>\n",
       "    </tr>\n",
       "  </thead>\n",
       "  <tbody>\n",
       "    <tr>\n",
       "      <th>0.0</th>\n",
       "      <td>5503</td>\n",
       "      <td>6236</td>\n",
       "      <td>6619</td>\n",
       "      <td>5266</td>\n",
       "      <td>6319</td>\n",
       "      <td>5153</td>\n",
       "      <td>5996</td>\n",
       "      <td>4700</td>\n",
       "      <td>6504</td>\n",
       "      <td>5852</td>\n",
       "      <td>4665</td>\n",
       "      <td>6082</td>\n",
       "    </tr>\n",
       "    <tr>\n",
       "      <th>NaN</th>\n",
       "      <td>1226</td>\n",
       "      <td>1016</td>\n",
       "      <td>558</td>\n",
       "      <td>1936</td>\n",
       "      <td>831</td>\n",
       "      <td>1550</td>\n",
       "      <td>1317</td>\n",
       "      <td>1892</td>\n",
       "      <td>726</td>\n",
       "      <td>1291</td>\n",
       "      <td>1933</td>\n",
       "      <td>999</td>\n",
       "    </tr>\n",
       "    <tr>\n",
       "      <th>1.0</th>\n",
       "      <td>754</td>\n",
       "      <td>231</td>\n",
       "      <td>306</td>\n",
       "      <td>281</td>\n",
       "      <td>333</td>\n",
       "      <td>780</td>\n",
       "      <td>170</td>\n",
       "      <td>891</td>\n",
       "      <td>253</td>\n",
       "      <td>340</td>\n",
       "      <td>885</td>\n",
       "      <td>402</td>\n",
       "    </tr>\n",
       "  </tbody>\n",
       "</table>\n",
       "</div>"
      ],
      "text/plain": [
       "     nr.ahr  nr.ar.lbd  nr.ar  nr.aromatase  nr.er.lbd  nr.er  nr.ppar.gamma  \\\n",
       "0.0    5503       6236   6619          5266       6319   5153           5996   \n",
       "NaN    1226       1016    558          1936        831   1550           1317   \n",
       "1.0     754        231    306           281        333    780            170   \n",
       "\n",
       "     sr.are  sr.atad5  sr.hse  sr.mmp  sr.p53  \n",
       "0.0    4700      6504    5852    4665    6082  \n",
       "NaN    1892       726    1291    1933     999  \n",
       "1.0     891       253     340     885     402  "
      ]
     },
     "execution_count": 4,
     "metadata": {},
     "output_type": "execute_result"
    }
   ],
   "source": [
    "summary_stat_input = pd.read_csv('summary_stat_input.tsv', sep='\\t')\n",
    "summary_stat_input"
   ]
  },
  {
   "cell_type": "code",
   "execution_count": 5,
   "id": "432e5d7a-789c-41bb-a1c3-7335a890149e",
   "metadata": {},
   "outputs": [
    {
     "data": {
      "text/plain": [
       "<Axes: >"
      ]
     },
     "execution_count": 5,
     "metadata": {},
     "output_type": "execute_result"
    },
    {
     "data": {
      "image/png": "[encoded data removed]",
      "text/plain": [
       "<Figure size 640x480 with 1 Axes>"
      ]
     },
     "metadata": {},
     "output_type": "display_data"
    }
   ],
   "source": [
    "summary_stat_input_T = summary_stat_input.transpose()\n",
    "stacked_data = summary_stat_input_T.apply(lambda x: x*100/sum(x), axis=1)\n",
    "stacked_data.plot(kind=\"bar\", stacked=True)"
   ]
  }
 ],
 "metadata": {
  "kernelspec": {
   "display_name": "mybase_py",
   "language": "python",
   "name": "mybase_py"
  },
  "language_info": {
   "codemirror_mode": {
    "name": "ipython",
    "version": 3
   },
   "file_extension": ".py",
   "mimetype": "text/x-python",
   "name": "python",
   "nbconvert_exporter": "python",
   "pygments_lexer": "ipython3",
   "version": "3.9.16"
  }
 },
 "nbformat": 4,
 "nbformat_minor": 5
}
