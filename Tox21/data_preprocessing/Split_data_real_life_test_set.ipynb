{
 "cells": [
  {
   "cell_type": "markdown",
   "id": "2aeebf6b-1b4b-4b2b-893f-fdacfed00fb2",
   "metadata": {},
   "source": [
    "# Generating real-life test set"
   ]
  },
  {
   "cell_type": "code",
   "execution_count": 1,
   "id": "ff4d7ede-9623-4495-9681-fb718985abed",
   "metadata": {},
   "outputs": [],
   "source": [
    "from rdkit import Chem\n",
    "from rdkit import DataStructs\n",
    "import pandas as pd\n",
    "import numpy as np\n",
    "from rdkit.Chem.MolStandardize import rdMolStandardize\n",
    "import matplotlib.pyplot as plt"
   ]
  },
  {
   "cell_type": "markdown",
   "id": "cdc4e0c7-b9af-4c21-a9bc-5301124dcad0",
   "metadata": {},
   "source": [
    "Reading in the file that has all the information about MassBank data, and was generated in `Mass_spectrometric_preprocessing_I.Rmd`.\n",
    "Also checking if the `SMILES` field is empty and removing the instances if `True`."
   ]
  },
  {
   "cell_type": "code",
   "execution_count": 2,
   "id": "1ddb075b-3e81-4431-a06f-db015d51000a",
   "metadata": {},
   "outputs": [],
   "source": [
    "mass_data_stand = pd.read_csv('mass_data_to_standardisation.tsv', sep='\\t')\n",
    "mass_data_stand[mass_data_stand['SMILES'].isnull()].to_csv('need_annotation.tsv', sep='\\t')\n",
    "mass_data_stand = mass_data_stand[-mass_data_stand['SMILES'].isnull()]\n",
    "mass_data_stand = mass_data_stand.reset_index(drop=True)"
   ]
  },
  {
   "cell_type": "markdown",
   "id": "09218389-8f88-40dc-bfec-ddc29f64fee1",
   "metadata": {},
   "source": [
    "Reading in the `original dataset`that was generated in `Tox21_pewpeocessing_II.ipynb`."
   ]
  },
  {
   "cell_type": "code",
   "execution_count": 3,
   "id": "b13fab45-1cf1-418b-8c23-51c8736193b4",
   "metadata": {},
   "outputs": [],
   "source": [
    "final_data = pd.read_csv('final_data_ready.tsv', sep='\\t')"
   ]
  },
  {
   "cell_type": "markdown",
   "id": "814c75c4-5f3e-481e-95ea-b0020bb1cfb0",
   "metadata": {},
   "source": [
    "Standardising the SMILES notations in MassBank file and then matching the data in file with a cleaned Tox21 dataset (based on standardised SMILES)"
   ]
  },
  {
   "cell_type": "code",
   "execution_count": 4,
   "id": "f9e63b79-7e75-421f-850c-bc8b9941d48a",
   "metadata": {},
   "outputs": [],
   "source": [
    "def neutralize_atoms(mol):\n",
    "    pattern = Chem.MolFromSmarts(\"[+1!h0!$([*]~[-1,-2,-3,-4]),-1!$([*]~[+1,+2,+3,+4])]\")\n",
    "    at_matches = mol.GetSubstructMatches(pattern)\n",
    "    at_matches_list = [y[0] for y in at_matches]\n",
    "    if len(at_matches_list) > 0:\n",
    "        for at_idx in at_matches_list:\n",
    "            atom = mol.GetAtomWithIdx(at_idx)\n",
    "            chg = atom.GetFormalCharge()\n",
    "            hcount = atom.GetTotalNumHs()\n",
    "            atom.SetFormalCharge(0)\n",
    "            atom.SetNumExplicitHs(hcount - chg)\n",
    "            atom.UpdatePropertyCache()\n",
    "    return mol"
   ]
  },
  {
   "cell_type": "code",
   "execution_count": 5,
   "id": "ae515855-088f-4f0e-b0b6-1c860c07233e",
   "metadata": {},
   "outputs": [],
   "source": [
    "final_data['in_massbank'] = np.nan\n",
    "mass_data_stand['needed'] = np.nan\n",
    "\n",
    "mols = [Chem.MolFromSmiles(m) for m in mass_data_stand['SMILES']]\n",
    "fps = [Chem.RDKFingerprint(m) for m in mols]\n",
    "list_mass = []\n",
    "for mol in mols:\n",
    "    neutralize_atoms(mol)\n",
    "    new_smiles = Chem.MolToSmiles(mol)\n",
    "    list_mass.append(new_smiles)\n",
    "mass_data_stand['SMILES_stand'] = list_mass"
   ]
  },
  {
   "cell_type": "code",
   "execution_count": 6,
   "id": "75f312e2-d726-4aab-ad71-46e6f367d513",
   "metadata": {},
   "outputs": [],
   "source": [
    "for i in range(len(final_data)):\n",
    "    smi1 = final_data.iloc[i]['SMILES']\n",
    "    for j in range(len(mass_data_stand)):\n",
    "        smi2 = mass_data_stand.iloc[j]['SMILES_stand']\n",
    "        if smi1 == smi2:\n",
    "            #print(final_data.iloc[i]['SMILES'], mass_data_stand.iloc[j]['SMILES'])\n",
    "            final_data.at[i, 'in_massbank'] = True\n",
    "            mass_data_stand.at[j, 'needed'] = True\n",
    "\n",
    "in_massbank = final_data[final_data['in_massbank'] == True].reset_index(drop=True)\n",
    "not_in_massbank = final_data[final_data['in_massbank'] != True].reset_index(drop=True)"
   ]
  },
  {
   "cell_type": "code",
   "execution_count": 7,
   "id": "f05ea1ff-050e-4603-a8ce-611e094dc0fe",
   "metadata": {},
   "outputs": [],
   "source": [
    "mass_data_final_new = mass_data_stand[['file_name', 'SMILES', 'SMILES_stand', 'instrument_type', 'needed']]\n",
    "mass_data_final_new = mass_data_final_new[mass_data_final_new['needed'] == True]\n",
    "final_data = final_data[final_data.columns[0:14]] \n",
    "final_data[final_data.columns[1:13]] = final_data[final_data.columns[1:13]].astype('Int64')\n",
    "in_massbank = final_data[final_data['in_massbank'] == True].reset_index(drop=True)"
   ]
  },
  {
   "cell_type": "markdown",
   "id": "6ab962c1-7a9d-46d9-8691-0ef499341df1",
   "metadata": {},
   "source": [
    "Calculating the fractions of active, inactive and inconclusive compounds in each bioassay in the Tox21 dataset, and then sampling the dataset repeatedly, until the subset resembles these proportions. (Using 10% of all the compounds for generating the real-life test set.)"
   ]
  },
  {
   "cell_type": "code",
   "execution_count": 8,
   "id": "96ecc221-9e06-47f0-9f54-43867046502a",
   "metadata": {},
   "outputs": [
    {
     "data": {
      "text/html": [
       "<div>\n",
       "<style scoped>\n",
       "    .dataframe tbody tr th:only-of-type {\n",
       "        vertical-align: middle;\n",
       "    }\n",
       "\n",
       "    .dataframe tbody tr th {\n",
       "        vertical-align: top;\n",
       "    }\n",
       "\n",
       "    .dataframe thead th {\n",
       "        text-align: right;\n",
       "    }\n",
       "</style>\n",
       "<table border=\"1\" class=\"dataframe\">\n",
       "  <thead>\n",
       "    <tr style=\"text-align: right;\">\n",
       "      <th></th>\n",
       "      <th>nr.ahr</th>\n",
       "      <th>nr.ar.lbd</th>\n",
       "      <th>nr.ar</th>\n",
       "      <th>nr.aromatase</th>\n",
       "      <th>nr.er.lbd</th>\n",
       "      <th>nr.er</th>\n",
       "      <th>nr.ppar.gamma</th>\n",
       "      <th>sr.are</th>\n",
       "      <th>sr.atad5</th>\n",
       "      <th>sr.hse</th>\n",
       "      <th>sr.mmp</th>\n",
       "      <th>sr.p53</th>\n",
       "    </tr>\n",
       "  </thead>\n",
       "  <tbody>\n",
       "    <tr>\n",
       "      <th>0</th>\n",
       "      <td>550</td>\n",
       "      <td>624</td>\n",
       "      <td>662</td>\n",
       "      <td>527</td>\n",
       "      <td>632</td>\n",
       "      <td>515</td>\n",
       "      <td>600</td>\n",
       "      <td>470</td>\n",
       "      <td>650</td>\n",
       "      <td>585</td>\n",
       "      <td>466</td>\n",
       "      <td>608</td>\n",
       "    </tr>\n",
       "    <tr>\n",
       "      <th>&lt;NA&gt;</th>\n",
       "      <td>123</td>\n",
       "      <td>102</td>\n",
       "      <td>56</td>\n",
       "      <td>194</td>\n",
       "      <td>83</td>\n",
       "      <td>155</td>\n",
       "      <td>132</td>\n",
       "      <td>189</td>\n",
       "      <td>73</td>\n",
       "      <td>129</td>\n",
       "      <td>193</td>\n",
       "      <td>100</td>\n",
       "    </tr>\n",
       "    <tr>\n",
       "      <th>1</th>\n",
       "      <td>75</td>\n",
       "      <td>23</td>\n",
       "      <td>31</td>\n",
       "      <td>28</td>\n",
       "      <td>33</td>\n",
       "      <td>78</td>\n",
       "      <td>17</td>\n",
       "      <td>89</td>\n",
       "      <td>25</td>\n",
       "      <td>34</td>\n",
       "      <td>88</td>\n",
       "      <td>40</td>\n",
       "    </tr>\n",
       "  </tbody>\n",
       "</table>\n",
       "</div>"
      ],
      "text/plain": [
       "      nr.ahr  nr.ar.lbd  nr.ar  nr.aromatase  nr.er.lbd  nr.er  nr.ppar.gamma  \\\n",
       "0        550        624    662           527        632    515            600   \n",
       "<NA>     123        102     56           194         83    155            132   \n",
       "1         75         23     31            28         33     78             17   \n",
       "\n",
       "      sr.are  sr.atad5  sr.hse  sr.mmp  sr.p53  \n",
       "0        470       650     585     466     608  \n",
       "<NA>     189        73     129     193     100  \n",
       "1         89        25      34      88      40  "
      ]
     },
     "execution_count": 8,
     "metadata": {},
     "output_type": "execute_result"
    }
   ],
   "source": [
    "summary_stat_input = final_data[final_data.columns[1:13]].apply(pd.value_counts, dropna=False)\n",
    "summary_stat_input = summary_stat_input * 0.1\n",
    "summary_stat_input = summary_stat_input.round(0).astype('Int64')\n",
    "summary_stat_input"
   ]
  },
  {
   "cell_type": "code",
   "execution_count": 9,
   "id": "d1de6f9e-5bb2-4a1c-8ee6-4727ea7728dc",
   "metadata": {},
   "outputs": [
    {
     "data": {
      "text/html": [
       "<div>\n",
       "<style scoped>\n",
       "    .dataframe tbody tr th:only-of-type {\n",
       "        vertical-align: middle;\n",
       "    }\n",
       "\n",
       "    .dataframe tbody tr th {\n",
       "        vertical-align: top;\n",
       "    }\n",
       "\n",
       "    .dataframe thead th {\n",
       "        text-align: right;\n",
       "    }\n",
       "</style>\n",
       "<table border=\"1\" class=\"dataframe\">\n",
       "  <thead>\n",
       "    <tr style=\"text-align: right;\">\n",
       "      <th></th>\n",
       "      <th>nr.ahr</th>\n",
       "      <th>nr.ar.lbd</th>\n",
       "      <th>nr.ar</th>\n",
       "      <th>nr.aromatase</th>\n",
       "      <th>nr.er.lbd</th>\n",
       "      <th>nr.er</th>\n",
       "      <th>nr.ppar.gamma</th>\n",
       "      <th>sr.are</th>\n",
       "      <th>sr.atad5</th>\n",
       "      <th>sr.hse</th>\n",
       "      <th>sr.mmp</th>\n",
       "      <th>sr.p53</th>\n",
       "    </tr>\n",
       "  </thead>\n",
       "  <tbody>\n",
       "    <tr>\n",
       "      <th>0</th>\n",
       "      <td>1211</td>\n",
       "      <td>1452</td>\n",
       "      <td>1550</td>\n",
       "      <td>1141</td>\n",
       "      <td>1451</td>\n",
       "      <td>1120</td>\n",
       "      <td>1344</td>\n",
       "      <td>1057</td>\n",
       "      <td>1534</td>\n",
       "      <td>1392</td>\n",
       "      <td>989</td>\n",
       "      <td>1385</td>\n",
       "    </tr>\n",
       "    <tr>\n",
       "      <th>1</th>\n",
       "      <td>278</td>\n",
       "      <td>63</td>\n",
       "      <td>93</td>\n",
       "      <td>118</td>\n",
       "      <td>118</td>\n",
       "      <td>238</td>\n",
       "      <td>54</td>\n",
       "      <td>278</td>\n",
       "      <td>67</td>\n",
       "      <td>94</td>\n",
       "      <td>283</td>\n",
       "      <td>121</td>\n",
       "    </tr>\n",
       "    <tr>\n",
       "      <th>&lt;NA&gt;</th>\n",
       "      <td>206</td>\n",
       "      <td>180</td>\n",
       "      <td>52</td>\n",
       "      <td>436</td>\n",
       "      <td>126</td>\n",
       "      <td>337</td>\n",
       "      <td>297</td>\n",
       "      <td>360</td>\n",
       "      <td>94</td>\n",
       "      <td>209</td>\n",
       "      <td>423</td>\n",
       "      <td>189</td>\n",
       "    </tr>\n",
       "  </tbody>\n",
       "</table>\n",
       "</div>"
      ],
      "text/plain": [
       "      nr.ahr  nr.ar.lbd  nr.ar  nr.aromatase  nr.er.lbd  nr.er  nr.ppar.gamma  \\\n",
       "0       1211       1452   1550          1141       1451   1120           1344   \n",
       "1        278         63     93           118        118    238             54   \n",
       "<NA>     206        180     52           436        126    337            297   \n",
       "\n",
       "      sr.are  sr.atad5  sr.hse  sr.mmp  sr.p53  \n",
       "0       1057      1534    1392     989    1385  \n",
       "1        278        67      94     283     121  \n",
       "<NA>     360        94     209     423     189  "
      ]
     },
     "execution_count": 9,
     "metadata": {},
     "output_type": "execute_result"
    }
   ],
   "source": [
    "summary_in_massbank = in_massbank[in_massbank.columns[1:13]].apply(pd.value_counts, dropna=False)\n",
    "summary_in_massbank "
   ]
  },
  {
   "cell_type": "markdown",
   "id": "7ac34edb-fdfb-49fa-a0dd-f25f13aac75d",
   "metadata": {},
   "source": [
    "Since `nr.ar` has less `NaN` values than needed based on calculated fractions - selecting all the compounds that have `NaN`in this bioassay.\n",
    "After that sampling (as described) the dataset to obtain the subset with the previously calculated fractions."
   ]
  },
  {
   "cell_type": "code",
   "execution_count": 11,
   "id": "f44f0d21-f7be-4c5e-a8c0-0e2e84b3763a",
   "metadata": {},
   "outputs": [
    {
     "data": {
      "text/html": [
       "<div>\n",
       "<style scoped>\n",
       "    .dataframe tbody tr th:only-of-type {\n",
       "        vertical-align: middle;\n",
       "    }\n",
       "\n",
       "    .dataframe tbody tr th {\n",
       "        vertical-align: top;\n",
       "    }\n",
       "\n",
       "    .dataframe thead th {\n",
       "        text-align: right;\n",
       "    }\n",
       "</style>\n",
       "<table border=\"1\" class=\"dataframe\">\n",
       "  <thead>\n",
       "    <tr style=\"text-align: right;\">\n",
       "      <th></th>\n",
       "      <th>nr.ahr</th>\n",
       "      <th>nr.ar.lbd</th>\n",
       "      <th>nr.ar</th>\n",
       "      <th>nr.aromatase</th>\n",
       "      <th>nr.er.lbd</th>\n",
       "      <th>nr.er</th>\n",
       "      <th>nr.ppar.gamma</th>\n",
       "      <th>sr.are</th>\n",
       "      <th>sr.atad5</th>\n",
       "      <th>sr.hse</th>\n",
       "      <th>sr.mmp</th>\n",
       "      <th>sr.p53</th>\n",
       "    </tr>\n",
       "  </thead>\n",
       "  <tbody>\n",
       "    <tr>\n",
       "      <th>&lt;NA&gt;</th>\n",
       "      <td>38</td>\n",
       "      <td>38</td>\n",
       "      <td>52</td>\n",
       "      <td>44</td>\n",
       "      <td>36</td>\n",
       "      <td>38</td>\n",
       "      <td>37</td>\n",
       "      <td>7</td>\n",
       "      <td>37</td>\n",
       "      <td>5</td>\n",
       "      <td>37</td>\n",
       "      <td>36</td>\n",
       "    </tr>\n",
       "    <tr>\n",
       "      <th>0</th>\n",
       "      <td>10</td>\n",
       "      <td>13</td>\n",
       "      <td>&lt;NA&gt;</td>\n",
       "      <td>6</td>\n",
       "      <td>13</td>\n",
       "      <td>7</td>\n",
       "      <td>14</td>\n",
       "      <td>37</td>\n",
       "      <td>12</td>\n",
       "      <td>45</td>\n",
       "      <td>9</td>\n",
       "      <td>14</td>\n",
       "    </tr>\n",
       "    <tr>\n",
       "      <th>1</th>\n",
       "      <td>4</td>\n",
       "      <td>1</td>\n",
       "      <td>&lt;NA&gt;</td>\n",
       "      <td>2</td>\n",
       "      <td>3</td>\n",
       "      <td>7</td>\n",
       "      <td>1</td>\n",
       "      <td>8</td>\n",
       "      <td>3</td>\n",
       "      <td>2</td>\n",
       "      <td>6</td>\n",
       "      <td>2</td>\n",
       "    </tr>\n",
       "  </tbody>\n",
       "</table>\n",
       "</div>"
      ],
      "text/plain": [
       "      nr.ahr  nr.ar.lbd  nr.ar  nr.aromatase  nr.er.lbd  nr.er  nr.ppar.gamma  \\\n",
       "<NA>      38         38     52            44         36     38             37   \n",
       "0         10         13   <NA>             6         13      7             14   \n",
       "1          4          1   <NA>             2          3      7              1   \n",
       "\n",
       "      sr.are  sr.atad5  sr.hse  sr.mmp  sr.p53  \n",
       "<NA>       7        37       5      37      36  \n",
       "0         37        12      45       9      14  \n",
       "1          8         3       2       6       2  "
      ]
     },
     "execution_count": 11,
     "metadata": {},
     "output_type": "execute_result"
    }
   ],
   "source": [
    "final_selection = in_massbank[in_massbank['nr.ar'].isnull()].sample(n = 52)\n",
    "final_selection[final_selection.columns[1:13]].apply(pd.value_counts, dropna=False)"
   ]
  },
  {
   "cell_type": "code",
   "execution_count": null,
   "id": "952859b0-aa7d-4f8a-ac74-61d5c93cdc2b",
   "metadata": {},
   "outputs": [],
   "source": [
    "min_error = 99999\n",
    "min_index = 0\n",
    "for i in range(100000):\n",
    "    #Trying different bioassays for sampling and calculating the n-s based on the bioassay used\n",
    "    sample_mass1 = in_massbank[in_massbank['nr.er'] == 1].sample(n = 71, random_state=i) \n",
    "    sample_mass2 = in_massbank[in_massbank['nr.er'] == 0].sample(n = 508, random_state=i)\n",
    "    sample_mass3 = in_massbank[in_massbank['nr.er'].isnull()].sample(n = 117, random_state=i)\n",
    "    sample_mass = pd.concat([sample_mass1, sample_mass2, sample_mass3, final_selection])\n",
    "    stat = sample_mass[sample_mass.columns[1:13]].apply(pd.value_counts, dropna=False)\n",
    "    error = 0\n",
    "    for j in range(0,12):\n",
    "        error += abs(summary_stat_input.loc[1][j] - stat.loc[1][j])\n",
    "    if error < min_error:\n",
    "        min_error = error\n",
    "        min_index = i\n",
    "        #print(min_error)"
   ]
  },
  {
   "cell_type": "code",
   "execution_count": 12,
   "id": "0a243bea-f4ae-4712-b642-9a044eceda4e",
   "metadata": {},
   "outputs": [],
   "source": [
    "sample_mass1 = in_massbank[in_massbank['nr.ahr'] == 1].sample(n = 71, random_state=157277) \n",
    "sample_mass2 = in_massbank[in_massbank['nr.ahr'] == 0].sample(n = 540, random_state=157277)\n",
    "sample_mass3 = in_massbank[in_massbank['nr.ahr'].isnull()].sample(n = 85, random_state=157277)\n",
    "sample_mass = pd.concat([sample_mass1, sample_mass2, sample_mass3, final_selection])\n",
    "stat = sample_mass[sample_mass.columns[1:13]].apply(pd.value_counts, dropna=False)\n",
    "sample_mass.to_csv('validation_set.tsv', sep='\\t', index=False)"
   ]
  },
  {
   "cell_type": "markdown",
   "id": "ff8cdf89-631b-439f-8b5b-74aa89d40c49",
   "metadata": {},
   "source": [
    "After finding a suitable subset, splitting the original dataset to training set and real-life test sets."
   ]
  },
  {
   "cell_type": "code",
   "execution_count": 19,
   "id": "ad350e98-55c7-4e74-bf8c-3c53214031c2",
   "metadata": {},
   "outputs": [],
   "source": [
    "train_test_set = final_data[~final_data['SMILES'].isin(sample_mass.SMILES)] # For training the models\n",
    "train_test_set = train_test_set.drop(['in_massbank'], axis=1).reset_index(drop=True)\n",
    "validation_set = sample_mass.drop(['in_massbank'], axis=1).reset_index(drop=True) # Real-life test set for final evaluation"
   ]
  },
  {
   "cell_type": "code",
   "execution_count": 20,
   "id": "a0f13c95-cba4-4671-bf50-ebf4e285a5db",
   "metadata": {},
   "outputs": [],
   "source": [
    "validation_set_final = sample_mass.merge(mass_data_final_new, left_on='SMILES', right_on='SMILES_stand')\n",
    "validation_set_final = validation_set_final.drop(['in_massbank', 'needed', 'SMILES_stand'], axis=1).rename(columns={'SMILES_x': 'SMILES', 'SMILES_y': 'SMILES_MB'})"
   ]
  },
  {
   "cell_type": "code",
   "execution_count": 22,
   "id": "9114097d-cb49-40a0-bc12-5b5bffa5e72b",
   "metadata": {},
   "outputs": [],
   "source": [
    "validation_set[validation_set.columns[1:]] = validation_set[validation_set.columns[1:]].astype('Int64')\n",
    "train_test_set[train_test_set.columns[1:]] = train_test_set[train_test_set.columns[1:]].astype('Int64')\n",
    "validation_set_final[validation_set_final.columns[1:13]] = validation_set_final[validation_set_final.columns[1:13]].astype('Int64')"
   ]
  },
  {
   "cell_type": "code",
   "execution_count": null,
   "id": "c8d32c42-bbb2-490d-93c8-cf1bea73e5fa",
   "metadata": {},
   "outputs": [],
   "source": [
    "# Saving the files\n",
    "validation_set.to_csv('validation_set.tsv', sep='\\t', index=False)\n",
    "train_test_set.to_csv('train_test_set.tsv', sep='\\t', index=False)\n",
    "validation_set_final.to_csv('validation_set_final.tsv', sep='\\t', index=False)"
   ]
  },
  {
   "cell_type": "code",
   "execution_count": 28,
   "id": "e96b018e-a9cb-44e7-b38b-cd78587e4353",
   "metadata": {},
   "outputs": [
    {
     "data": {
      "image/png": "[encoded data removed]",
      "text/plain": [
       "<Figure size 2000x500 with 3 Axes>"
      ]
     },
     "metadata": {},
     "output_type": "display_data"
    }
   ],
   "source": [
    "original_stat = final_data[final_data.columns[1:13]].apply(pd.value_counts, dropna=False).transpose().apply(lambda x: x*100/sum(x), axis=1)\n",
    "train_test_stat = train_test_set[train_test_set.columns[1:13]].apply(pd.value_counts, dropna=False).transpose().apply(lambda x: x*100/sum(x), axis=1)\n",
    "validation_stat = validation_set[validation_set.columns[1:13]].apply(pd.value_counts, dropna=False).transpose().apply(lambda x: x*100/sum(x), axis=1)\n",
    "\n",
    "#stacked_data2.plot(kind=\"bar\", stacked=True)\n",
    "\n",
    "fig, axs = plt.subplots(1, 3, figsize=(20, 5))\n",
    "original_stat.plot( kind=\"bar\", stacked=True, ax=axs[0], legend=False)\n",
    "train_test_stat.plot( kind=\"bar\", stacked=True, ax=axs[1], legend=False)\n",
    "validation_stat.plot( kind=\"bar\", stacked=True, ax=axs[2], legend=False)\n",
    "axs[0].set_title('Original data')\n",
    "axs[1].set_title('Train/test set')\n",
    "axs[2].set_title('Real-life test set')\n",
    "handles, labels = axs[0].get_legend_handles_labels()\n",
    "fig.legend(handles, labels, loc = 'lower center', ncol=5, labelspacing=0.)\n",
    "plt.tight_layout()"
   ]
  },
  {
   "cell_type": "markdown",
   "id": "b076fb2a-d1ed-45d8-be55-f6f6d7d804ce",
   "metadata": {},
   "source": [
    "Adding the information about previously calculated true fingerprint features (generated in `SMILES2fingerprint_features.Rmd`)"
   ]
  },
  {
   "cell_type": "code",
   "execution_count": 29,
   "id": "f934dd7c-56ce-4987-8102-8f69c1d09e62",
   "metadata": {},
   "outputs": [],
   "source": [
    "data_with_fps = pd.read_csv('general_mode_data_without_all0.tsv', sep='\\t')\n",
    "data_with_fps[data_with_fps.columns[1:]] = data_with_fps[data_with_fps.columns[1:]].astype('Int64')"
   ]
  },
  {
   "cell_type": "code",
   "execution_count": 30,
   "id": "686488f2-fc57-43d9-8d91-989e35865857",
   "metadata": {},
   "outputs": [],
   "source": [
    "train_test_set_fps = data_with_fps[data_with_fps['SMILES'].isin(train_test_set.SMILES)].reset_index(drop=True)\n",
    "validation_set_fps = data_with_fps[data_with_fps['SMILES'].isin(validation_set.SMILES)].reset_index(drop=True)\n",
    "validation_set_fps.to_csv('validation_set_fps.tsv', sep='\\t', index=False)\n",
    "train_test_set_fps.to_csv('train_test_set_fps.tsv', sep='\\t', index=False)"
   ]
  }
 ],
 "metadata": {
  "kernelspec": {
   "display_name": "mybase_py",
   "language": "python",
   "name": "mybase_py"
  },
  "language_info": {
   "codemirror_mode": {
    "name": "ipython",
    "version": 3
   },
   "file_extension": ".py",
   "mimetype": "text/x-python",
   "name": "python",
   "nbconvert_exporter": "python",
   "pygments_lexer": "ipython3",
   "version": "3.9.16"
  }
 },
 "nbformat": 4,
 "nbformat_minor": 5
}
